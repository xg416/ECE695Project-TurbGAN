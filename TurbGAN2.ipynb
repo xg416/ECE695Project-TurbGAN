{
 "cells": [
  {
   "cell_type": "code",
   "execution_count": 1,
   "id": "83c3e5f9",
   "metadata": {},
   "outputs": [],
   "source": [
    "import torch\n",
    "import torch.nn as nn\n",
    "import torch.optim as optim\n",
    "import torchvision.transforms.functional as TF\n",
    "from PIL import Image\n",
    "import numpy as np\n",
    "from UNet3d import UNet3D\n",
    "from dataset import DataLoaderTurb\n",
    "from torch.utils.data import DataLoader\n",
    "from network import *\n",
    "from utils import *"
   ]
  },
  {
   "cell_type": "code",
   "execution_count": 2,
   "id": "5a0b8177",
   "metadata": {},
   "outputs": [],
   "source": [
    "log_path = './log.txt'"
   ]
  },
  {
   "cell_type": "code",
   "execution_count": 3,
   "id": "94a0df1e",
   "metadata": {},
   "outputs": [
    {
     "data": {
      "text/plain": [
       "<All keys matched successfully>"
      ]
     },
     "execution_count": 3,
     "metadata": {},
     "output_type": "execute_result"
    }
   ],
   "source": [
    "turb_params = {\n",
    "    'img_size': (128,128),\n",
    "    'D':0.1,        # Apeture diameter\n",
    "    'r0':0.05,      # Fried parameter \n",
    "    'L':1000,       # Propogation distance\n",
    "    'thre':0.002,   # Used to suppress small values in the tilt correlation matrix. Increase \n",
    "                    # this threshold if the pixel displacement appears to be scattering\n",
    "    'adj':1,        # Adjusting factor of delta0 for tilt matrix\n",
    "    'wavelength':0.500e-6,\n",
    "    'corr':-0.02,    # Correlation strength for PSF without tilt. suggested range: (-1 ~ -0.01)\n",
    "    'zer_scale':1   # manually adjust zernike coefficients of the PSF without tilt.\n",
    "}\n",
    "simu_bs = 10\n",
    "bs = 10\n",
    "lr_g=1e-7\n",
    "lr_d=1e-7\n",
    "start_iter = 360000\n",
    "device = torch.device('cuda:0') if torch.cuda.is_available() else torch.device('CPU')\n",
    "gen_net = UNet3D(n_frames=bs, feat_channels=[32, 128, 128, 256, 512],).cuda().train()\n",
    "# if start_iter < 5000:\n",
    "#     checkpoint = torch.load('.checkpoints/init_G_res.pth')\n",
    "# else:\n",
    "#     checkpoint = torch.load(f'./checkpoints/model_G_{start_iter}.pth')\n",
    "# gen_net.load_state_dict(checkpoint['state_dict'] if 'state_dict' in checkpoint.keys() else checkpoint)\n",
    "\n",
    "net_G = Generator(turb_params, batch_size=simu_bs, restorer=gen_net, device=device)\n",
    "if start_iter >= 5000:\n",
    "    checkpoint = torch.load(f'./checkpoints/model_G_{start_iter}.pth')\n",
    "#     lr_g = checkpoint['optimizer']['param_groups'][0]['lr']\n",
    "else:\n",
    "    checkpoint = torch.load('./checkpoints/init_G_res.pth')\n",
    "net_G.load_state_dict(checkpoint['state_dict'] if 'state_dict' in checkpoint.keys() else checkpoint)"
   ]
  },
  {
   "cell_type": "code",
   "execution_count": 4,
   "id": "df2d862b",
   "metadata": {},
   "outputs": [],
   "source": [
    "net_D = Discriminator().cuda()\n",
    "if start_iter > 0:\n",
    "    checkpoint = torch.load(f'./checkpoints/model_D_{start_iter}.pth')\n",
    "    net_D.load_state_dict(checkpoint['state_dict'] if 'state_dict' in checkpoint.keys() else checkpoint)\n",
    "#     lr_d = checkpoint['optimizer']['param_groups'][0]['lr']\n",
    "    TGAN = TurbGAN(save_path='./', model_g=net_G, model_d=net_D, lr_g=lr_g, lr_d=lr_d, continue_train=True)\n",
    "else:\n",
    "    TGAN = TurbGAN(save_path='./', model_g=net_G, model_d=net_D, lr_g=lr_g, lr_d=lr_d, continue_train=False)"
   ]
  },
  {
   "cell_type": "code",
   "execution_count": 5,
   "id": "cf42e7b6",
   "metadata": {},
   "outputs": [],
   "source": [
    "target = TF.to_tensor(Image.open('./image/gt.jpg').convert(\"RGB\"))"
   ]
  },
  {
   "cell_type": "code",
   "execution_count": 6,
   "id": "94af2f9a",
   "metadata": {},
   "outputs": [],
   "source": [
    "G_loader = DataLoader(dataset=DataLoaderTurb('./image/img_in'), batch_size=bs, \\\n",
    "                          shuffle=True, num_workers=8, drop_last=True, pin_memory=True)\n",
    "D_loader = DataLoader(dataset=DataLoaderTurb('./image/img_in'), batch_size=simu_bs, \\\n",
    "                          shuffle=True, num_workers=8, drop_last=True, pin_memory=True)"
   ]
  },
  {
   "cell_type": "code",
   "execution_count": 7,
   "id": "9ecf29bd",
   "metadata": {
    "scrolled": true
   },
   "outputs": [
    {
     "name": "stdout",
     "output_type": "stream",
     "text": [
      "step: 360500 lr_g: 0.000000100 lr_d: 0.000000100 loss_G: 0.249516 loss_D: -0.271137 psnr: 25.942674\n",
      "step: 361000 lr_g: 0.000000100 lr_d: 0.000000100 loss_G: 0.251849 loss_D: -0.280724 psnr: 25.925190\n",
      "step: 361500 lr_g: 0.000000100 lr_d: 0.000000100 loss_G: 0.238906 loss_D: -0.288604 psnr: 25.934529\n",
      "step: 362000 lr_g: 0.000000100 lr_d: 0.000000100 loss_G: 0.232285 loss_D: -0.275303 psnr: 25.935929\n",
      "step: 362500 lr_g: 0.000000100 lr_d: 0.000000100 loss_G: 0.239640 loss_D: -0.274953 psnr: 25.927555\n",
      "step: 363000 lr_g: 0.000000100 lr_d: 0.000000100 loss_G: 0.238940 loss_D: -0.259674 psnr: 25.921523\n",
      "step: 363500 lr_g: 0.000000100 lr_d: 0.000000100 loss_G: 0.260273 loss_D: -0.259619 psnr: 25.924279\n",
      "step: 364000 lr_g: 0.000000100 lr_d: 0.000000100 loss_G: 0.244067 loss_D: -0.271567 psnr: 25.938342\n",
      "step: 364500 lr_g: 0.000000100 lr_d: 0.000000100 loss_G: 0.225094 loss_D: -0.271821 psnr: 25.929645\n",
      "step: 365000 lr_g: 0.000000100 lr_d: 0.000000100 loss_G: 0.220689 loss_D: -0.264335 psnr: 25.932609\n",
      "step: 365500 lr_g: 0.000000100 lr_d: 0.000000100 loss_G: 0.242450 loss_D: -0.257072 psnr: 25.930522\n",
      "step: 366000 lr_g: 0.000000100 lr_d: 0.000000100 loss_G: 0.226010 loss_D: -0.266664 psnr: 25.940340\n",
      "step: 366500 lr_g: 0.000000100 lr_d: 0.000000100 loss_G: 0.249247 loss_D: -0.262468 psnr: 25.939583\n",
      "step: 367000 lr_g: 0.000000100 lr_d: 0.000000100 loss_G: 0.202146 loss_D: -0.265286 psnr: 25.910830\n",
      "step: 367500 lr_g: 0.000000100 lr_d: 0.000000100 loss_G: 0.244302 loss_D: -0.267359 psnr: 25.932578\n",
      "step: 368000 lr_g: 0.000000100 lr_d: 0.000000100 loss_G: 0.242710 loss_D: -0.253490 psnr: 25.931503\n",
      "step: 368500 lr_g: 0.000000100 lr_d: 0.000000100 loss_G: 0.223235 loss_D: -0.266003 psnr: 25.934217\n",
      "step: 369000 lr_g: 0.000000100 lr_d: 0.000000100 loss_G: 0.232388 loss_D: -0.253035 psnr: 25.925510\n",
      "step: 369500 lr_g: 0.000000100 lr_d: 0.000000100 loss_G: 0.223499 loss_D: -0.252803 psnr: 25.937866\n",
      "step: 370000 lr_g: 0.000000100 lr_d: 0.000000100 loss_G: 0.245672 loss_D: -0.252558 psnr: 25.924661\n",
      "step: 370500 lr_g: 0.000000100 lr_d: 0.000000100 loss_G: 0.226592 loss_D: -0.250713 psnr: 25.931291\n",
      "step: 371000 lr_g: 0.000000100 lr_d: 0.000000100 loss_G: 0.247782 loss_D: -0.267544 psnr: 25.917167\n",
      "step: 371500 lr_g: 0.000000100 lr_d: 0.000000100 loss_G: 0.219153 loss_D: -0.262595 psnr: 25.922178\n",
      "step: 372000 lr_g: 0.000000100 lr_d: 0.000000100 loss_G: 0.215729 loss_D: -0.246562 psnr: 25.940424\n",
      "step: 372500 lr_g: 0.000000100 lr_d: 0.000000100 loss_G: 0.200296 loss_D: -0.247396 psnr: 25.927169\n",
      "step: 373000 lr_g: 0.000000100 lr_d: 0.000000100 loss_G: 0.237948 loss_D: -0.254155 psnr: 25.935538\n",
      "step: 373500 lr_g: 0.000000100 lr_d: 0.000000100 loss_G: 0.210062 loss_D: -0.244157 psnr: 25.907009\n",
      "step: 374000 lr_g: 0.000000100 lr_d: 0.000000100 loss_G: 0.209885 loss_D: -0.244772 psnr: 25.939813\n",
      "step: 374500 lr_g: 0.000000100 lr_d: 0.000000100 loss_G: 0.217011 loss_D: -0.252946 psnr: 25.915521\n",
      "step: 375000 lr_g: 0.000000100 lr_d: 0.000000100 loss_G: 0.232938 loss_D: -0.245226 psnr: 25.929989\n",
      "step: 375500 lr_g: 0.000000100 lr_d: 0.000000100 loss_G: 0.219077 loss_D: -0.237661 psnr: 25.928046\n",
      "step: 376000 lr_g: 0.000000100 lr_d: 0.000000100 loss_G: 0.221862 loss_D: -0.244313 psnr: 25.921233\n",
      "step: 376500 lr_g: 0.000000100 lr_d: 0.000000100 loss_G: 0.181389 loss_D: -0.240450 psnr: 25.915937\n",
      "step: 377000 lr_g: 0.000000100 lr_d: 0.000000100 loss_G: 0.192953 loss_D: -0.238543 psnr: 25.926419\n",
      "step: 377500 lr_g: 0.000000100 lr_d: 0.000000100 loss_G: 0.182746 loss_D: -0.246356 psnr: 25.918961\n",
      "step: 378000 lr_g: 0.000000100 lr_d: 0.000000100 loss_G: 0.176612 loss_D: -0.240052 psnr: 25.921544\n",
      "step: 378500 lr_g: 0.000000100 lr_d: 0.000000100 loss_G: 0.191606 loss_D: -0.245094 psnr: 25.898427\n",
      "step: 379000 lr_g: 0.000000100 lr_d: 0.000000100 loss_G: 0.183186 loss_D: -0.245375 psnr: 25.912780\n",
      "step: 379500 lr_g: 0.000000100 lr_d: 0.000000100 loss_G: 0.199246 loss_D: -0.240462 psnr: 25.916037\n",
      "step: 380000 lr_g: 0.000000100 lr_d: 0.000000100 loss_G: 0.167155 loss_D: -0.245903 psnr: 25.916862\n",
      "step: 380500 lr_g: 0.000000100 lr_d: 0.000000100 loss_G: 0.191012 loss_D: -0.241629 psnr: 25.919915\n",
      "step: 381000 lr_g: 0.000000100 lr_d: 0.000000100 loss_G: 0.181719 loss_D: -0.234832 psnr: 25.914046\n",
      "step: 381500 lr_g: 0.000000100 lr_d: 0.000000100 loss_G: 0.201676 loss_D: -0.243121 psnr: 25.899935\n",
      "step: 382000 lr_g: 0.000000100 lr_d: 0.000000100 loss_G: 0.175373 loss_D: -0.245941 psnr: 25.918940\n",
      "step: 382500 lr_g: 0.000000100 lr_d: 0.000000100 loss_G: 0.181843 loss_D: -0.236746 psnr: 25.906796\n",
      "step: 383000 lr_g: 0.000000100 lr_d: 0.000000100 loss_G: 0.164585 loss_D: -0.234510 psnr: 25.894685\n",
      "step: 383500 lr_g: 0.000000100 lr_d: 0.000000100 loss_G: 0.188846 loss_D: -0.229237 psnr: 25.906813\n",
      "step: 384000 lr_g: 0.000000100 lr_d: 0.000000100 loss_G: 0.185506 loss_D: -0.222249 psnr: 25.921879\n",
      "step: 384500 lr_g: 0.000000100 lr_d: 0.000000100 loss_G: 0.165116 loss_D: -0.232383 psnr: 25.893411\n",
      "step: 385000 lr_g: 0.000000100 lr_d: 0.000000100 loss_G: 0.180352 loss_D: -0.221708 psnr: 25.894412\n",
      "step: 385500 lr_g: 0.000000100 lr_d: 0.000000100 loss_G: 0.180490 loss_D: -0.227995 psnr: 25.897671\n",
      "step: 386000 lr_g: 0.000000100 lr_d: 0.000000100 loss_G: 0.196579 loss_D: -0.219776 psnr: 25.904256\n",
      "step: 386500 lr_g: 0.000000100 lr_d: 0.000000100 loss_G: 0.137615 loss_D: -0.232913 psnr: 25.923272\n",
      "step: 387000 lr_g: 0.000000100 lr_d: 0.000000100 loss_G: 0.184258 loss_D: -0.230377 psnr: 25.895163\n",
      "step: 387500 lr_g: 0.000000100 lr_d: 0.000000100 loss_G: 0.156118 loss_D: -0.228719 psnr: 25.902735\n",
      "step: 388000 lr_g: 0.000000100 lr_d: 0.000000100 loss_G: 0.163314 loss_D: -0.234331 psnr: 25.893635\n",
      "step: 388500 lr_g: 0.000000100 lr_d: 0.000000100 loss_G: 0.171230 loss_D: -0.219081 psnr: 25.908607\n",
      "step: 389000 lr_g: 0.000000100 lr_d: 0.000000100 loss_G: 0.164797 loss_D: -0.212263 psnr: 25.899495\n",
      "step: 389500 lr_g: 0.000000100 lr_d: 0.000000100 loss_G: 0.171253 loss_D: -0.219227 psnr: 25.901059\n",
      "step: 390000 lr_g: 0.000000100 lr_d: 0.000000100 loss_G: 0.137922 loss_D: -0.218929 psnr: 25.900555\n",
      "step: 390500 lr_g: 0.000000100 lr_d: 0.000000100 loss_G: 0.166235 loss_D: -0.209944 psnr: 25.898681\n",
      "step: 391000 lr_g: 0.000000100 lr_d: 0.000000100 loss_G: 0.167312 loss_D: -0.219976 psnr: 25.873802\n"
     ]
    },
    {
     "ename": "KeyboardInterrupt",
     "evalue": "",
     "output_type": "error",
     "traceback": [
      "\u001b[0;31m---------------------------------------------------------------------------\u001b[0m",
      "\u001b[0;31mKeyboardInterrupt\u001b[0m                         Traceback (most recent call last)",
      "\u001b[0;32m/tmp/ipykernel_3753383/738440172.py\u001b[0m in \u001b[0;36m<module>\u001b[0;34m\u001b[0m\n\u001b[1;32m     11\u001b[0m \u001b[0;34m\u001b[0m\u001b[0m\n\u001b[1;32m     12\u001b[0m \u001b[0;32mwhile\u001b[0m \u001b[0;32mTrue\u001b[0m\u001b[0;34m:\u001b[0m\u001b[0;34m\u001b[0m\u001b[0;34m\u001b[0m\u001b[0m\n\u001b[0;32m---> 13\u001b[0;31m     \u001b[0;32mfor\u001b[0m \u001b[0mG_in\u001b[0m\u001b[0;34m,\u001b[0m \u001b[0mD_real\u001b[0m \u001b[0;32min\u001b[0m \u001b[0mzip\u001b[0m\u001b[0;34m(\u001b[0m\u001b[0mG_loader\u001b[0m\u001b[0;34m,\u001b[0m \u001b[0mD_loader\u001b[0m\u001b[0;34m)\u001b[0m\u001b[0;34m:\u001b[0m\u001b[0;34m\u001b[0m\u001b[0;34m\u001b[0m\u001b[0m\n\u001b[0m\u001b[1;32m     14\u001b[0m         \u001b[0mTGAN\u001b[0m\u001b[0;34m.\u001b[0m\u001b[0mset_input\u001b[0m\u001b[0;34m(\u001b[0m\u001b[0mG_in\u001b[0m\u001b[0;34m,\u001b[0m \u001b[0mD_real\u001b[0m\u001b[0;34m)\u001b[0m\u001b[0;34m\u001b[0m\u001b[0;34m\u001b[0m\u001b[0m\n\u001b[1;32m     15\u001b[0m         \u001b[0mTGAN\u001b[0m\u001b[0;34m.\u001b[0m\u001b[0moptimize\u001b[0m\u001b[0;34m(\u001b[0m\u001b[0mniter\u001b[0m\u001b[0;34m)\u001b[0m\u001b[0;34m\u001b[0m\u001b[0;34m\u001b[0m\u001b[0m\n",
      "\u001b[0;32m~/Envs/turb/lib/python3.8/site-packages/torch/utils/data/dataloader.py\u001b[0m in \u001b[0;36m__next__\u001b[0;34m(self)\u001b[0m\n\u001b[1;32m    519\u001b[0m             \u001b[0;32mif\u001b[0m \u001b[0mself\u001b[0m\u001b[0;34m.\u001b[0m\u001b[0m_sampler_iter\u001b[0m \u001b[0;32mis\u001b[0m \u001b[0;32mNone\u001b[0m\u001b[0;34m:\u001b[0m\u001b[0;34m\u001b[0m\u001b[0;34m\u001b[0m\u001b[0m\n\u001b[1;32m    520\u001b[0m                 \u001b[0mself\u001b[0m\u001b[0;34m.\u001b[0m\u001b[0m_reset\u001b[0m\u001b[0;34m(\u001b[0m\u001b[0;34m)\u001b[0m\u001b[0;34m\u001b[0m\u001b[0;34m\u001b[0m\u001b[0m\n\u001b[0;32m--> 521\u001b[0;31m             \u001b[0mdata\u001b[0m \u001b[0;34m=\u001b[0m \u001b[0mself\u001b[0m\u001b[0;34m.\u001b[0m\u001b[0m_next_data\u001b[0m\u001b[0;34m(\u001b[0m\u001b[0;34m)\u001b[0m\u001b[0;34m\u001b[0m\u001b[0;34m\u001b[0m\u001b[0m\n\u001b[0m\u001b[1;32m    522\u001b[0m             \u001b[0mself\u001b[0m\u001b[0;34m.\u001b[0m\u001b[0m_num_yielded\u001b[0m \u001b[0;34m+=\u001b[0m \u001b[0;36m1\u001b[0m\u001b[0;34m\u001b[0m\u001b[0;34m\u001b[0m\u001b[0m\n\u001b[1;32m    523\u001b[0m             \u001b[0;32mif\u001b[0m \u001b[0mself\u001b[0m\u001b[0;34m.\u001b[0m\u001b[0m_dataset_kind\u001b[0m \u001b[0;34m==\u001b[0m \u001b[0m_DatasetKind\u001b[0m\u001b[0;34m.\u001b[0m\u001b[0mIterable\u001b[0m \u001b[0;32mand\u001b[0m\u001b[0;31m \u001b[0m\u001b[0;31m\\\u001b[0m\u001b[0;34m\u001b[0m\u001b[0;34m\u001b[0m\u001b[0m\n",
      "\u001b[0;32m~/Envs/turb/lib/python3.8/site-packages/torch/utils/data/dataloader.py\u001b[0m in \u001b[0;36m_next_data\u001b[0;34m(self)\u001b[0m\n\u001b[1;32m   1173\u001b[0m                 \u001b[0;31m# no valid `self._rcvd_idx` is found (i.e., didn't break)\u001b[0m\u001b[0;34m\u001b[0m\u001b[0;34m\u001b[0m\u001b[0;34m\u001b[0m\u001b[0m\n\u001b[1;32m   1174\u001b[0m                 \u001b[0;32mif\u001b[0m \u001b[0;32mnot\u001b[0m \u001b[0mself\u001b[0m\u001b[0;34m.\u001b[0m\u001b[0m_persistent_workers\u001b[0m\u001b[0;34m:\u001b[0m\u001b[0;34m\u001b[0m\u001b[0;34m\u001b[0m\u001b[0m\n\u001b[0;32m-> 1175\u001b[0;31m                     \u001b[0mself\u001b[0m\u001b[0;34m.\u001b[0m\u001b[0m_shutdown_workers\u001b[0m\u001b[0;34m(\u001b[0m\u001b[0;34m)\u001b[0m\u001b[0;34m\u001b[0m\u001b[0;34m\u001b[0m\u001b[0m\n\u001b[0m\u001b[1;32m   1176\u001b[0m                 \u001b[0;32mraise\u001b[0m \u001b[0mStopIteration\u001b[0m\u001b[0;34m\u001b[0m\u001b[0;34m\u001b[0m\u001b[0m\n\u001b[1;32m   1177\u001b[0m \u001b[0;34m\u001b[0m\u001b[0m\n",
      "\u001b[0;32m~/Envs/turb/lib/python3.8/site-packages/torch/utils/data/dataloader.py\u001b[0m in \u001b[0;36m_shutdown_workers\u001b[0;34m(self)\u001b[0m\n\u001b[1;32m   1299\u001b[0m                     \u001b[0;31m# wrong, we set a timeout and if the workers fail to join,\u001b[0m\u001b[0;34m\u001b[0m\u001b[0;34m\u001b[0m\u001b[0;34m\u001b[0m\u001b[0m\n\u001b[1;32m   1300\u001b[0m                     \u001b[0;31m# they are killed in the `finally` block.\u001b[0m\u001b[0;34m\u001b[0m\u001b[0;34m\u001b[0m\u001b[0;34m\u001b[0m\u001b[0m\n\u001b[0;32m-> 1301\u001b[0;31m                     \u001b[0mw\u001b[0m\u001b[0;34m.\u001b[0m\u001b[0mjoin\u001b[0m\u001b[0;34m(\u001b[0m\u001b[0mtimeout\u001b[0m\u001b[0;34m=\u001b[0m\u001b[0m_utils\u001b[0m\u001b[0;34m.\u001b[0m\u001b[0mMP_STATUS_CHECK_INTERVAL\u001b[0m\u001b[0;34m)\u001b[0m\u001b[0;34m\u001b[0m\u001b[0;34m\u001b[0m\u001b[0m\n\u001b[0m\u001b[1;32m   1302\u001b[0m                 \u001b[0;32mfor\u001b[0m \u001b[0mq\u001b[0m \u001b[0;32min\u001b[0m \u001b[0mself\u001b[0m\u001b[0;34m.\u001b[0m\u001b[0m_index_queues\u001b[0m\u001b[0;34m:\u001b[0m\u001b[0;34m\u001b[0m\u001b[0;34m\u001b[0m\u001b[0m\n\u001b[1;32m   1303\u001b[0m                     \u001b[0mq\u001b[0m\u001b[0;34m.\u001b[0m\u001b[0mcancel_join_thread\u001b[0m\u001b[0;34m(\u001b[0m\u001b[0;34m)\u001b[0m\u001b[0;34m\u001b[0m\u001b[0;34m\u001b[0m\u001b[0m\n",
      "\u001b[0;32m/usr/lib/python3.8/multiprocessing/process.py\u001b[0m in \u001b[0;36mjoin\u001b[0;34m(self, timeout)\u001b[0m\n\u001b[1;32m    147\u001b[0m         \u001b[0;32massert\u001b[0m \u001b[0mself\u001b[0m\u001b[0;34m.\u001b[0m\u001b[0m_parent_pid\u001b[0m \u001b[0;34m==\u001b[0m \u001b[0mos\u001b[0m\u001b[0;34m.\u001b[0m\u001b[0mgetpid\u001b[0m\u001b[0;34m(\u001b[0m\u001b[0;34m)\u001b[0m\u001b[0;34m,\u001b[0m \u001b[0;34m'can only join a child process'\u001b[0m\u001b[0;34m\u001b[0m\u001b[0;34m\u001b[0m\u001b[0m\n\u001b[1;32m    148\u001b[0m         \u001b[0;32massert\u001b[0m \u001b[0mself\u001b[0m\u001b[0;34m.\u001b[0m\u001b[0m_popen\u001b[0m \u001b[0;32mis\u001b[0m \u001b[0;32mnot\u001b[0m \u001b[0;32mNone\u001b[0m\u001b[0;34m,\u001b[0m \u001b[0;34m'can only join a started process'\u001b[0m\u001b[0;34m\u001b[0m\u001b[0;34m\u001b[0m\u001b[0m\n\u001b[0;32m--> 149\u001b[0;31m         \u001b[0mres\u001b[0m \u001b[0;34m=\u001b[0m \u001b[0mself\u001b[0m\u001b[0;34m.\u001b[0m\u001b[0m_popen\u001b[0m\u001b[0;34m.\u001b[0m\u001b[0mwait\u001b[0m\u001b[0;34m(\u001b[0m\u001b[0mtimeout\u001b[0m\u001b[0;34m)\u001b[0m\u001b[0;34m\u001b[0m\u001b[0;34m\u001b[0m\u001b[0m\n\u001b[0m\u001b[1;32m    150\u001b[0m         \u001b[0;32mif\u001b[0m \u001b[0mres\u001b[0m \u001b[0;32mis\u001b[0m \u001b[0;32mnot\u001b[0m \u001b[0;32mNone\u001b[0m\u001b[0;34m:\u001b[0m\u001b[0;34m\u001b[0m\u001b[0;34m\u001b[0m\u001b[0m\n\u001b[1;32m    151\u001b[0m             \u001b[0m_children\u001b[0m\u001b[0;34m.\u001b[0m\u001b[0mdiscard\u001b[0m\u001b[0;34m(\u001b[0m\u001b[0mself\u001b[0m\u001b[0;34m)\u001b[0m\u001b[0;34m\u001b[0m\u001b[0;34m\u001b[0m\u001b[0m\n",
      "\u001b[0;32m/usr/lib/python3.8/multiprocessing/popen_fork.py\u001b[0m in \u001b[0;36mwait\u001b[0;34m(self, timeout)\u001b[0m\n\u001b[1;32m     42\u001b[0m             \u001b[0;32mif\u001b[0m \u001b[0mtimeout\u001b[0m \u001b[0;32mis\u001b[0m \u001b[0;32mnot\u001b[0m \u001b[0;32mNone\u001b[0m\u001b[0;34m:\u001b[0m\u001b[0;34m\u001b[0m\u001b[0;34m\u001b[0m\u001b[0m\n\u001b[1;32m     43\u001b[0m                 \u001b[0;32mfrom\u001b[0m \u001b[0mmultiprocessing\u001b[0m\u001b[0;34m.\u001b[0m\u001b[0mconnection\u001b[0m \u001b[0;32mimport\u001b[0m \u001b[0mwait\u001b[0m\u001b[0;34m\u001b[0m\u001b[0;34m\u001b[0m\u001b[0m\n\u001b[0;32m---> 44\u001b[0;31m                 \u001b[0;32mif\u001b[0m \u001b[0;32mnot\u001b[0m \u001b[0mwait\u001b[0m\u001b[0;34m(\u001b[0m\u001b[0;34m[\u001b[0m\u001b[0mself\u001b[0m\u001b[0;34m.\u001b[0m\u001b[0msentinel\u001b[0m\u001b[0;34m]\u001b[0m\u001b[0;34m,\u001b[0m \u001b[0mtimeout\u001b[0m\u001b[0;34m)\u001b[0m\u001b[0;34m:\u001b[0m\u001b[0;34m\u001b[0m\u001b[0;34m\u001b[0m\u001b[0m\n\u001b[0m\u001b[1;32m     45\u001b[0m                     \u001b[0;32mreturn\u001b[0m \u001b[0;32mNone\u001b[0m\u001b[0;34m\u001b[0m\u001b[0;34m\u001b[0m\u001b[0m\n\u001b[1;32m     46\u001b[0m             \u001b[0;31m# This shouldn't block if wait() returned successfully.\u001b[0m\u001b[0;34m\u001b[0m\u001b[0;34m\u001b[0m\u001b[0;34m\u001b[0m\u001b[0m\n",
      "\u001b[0;32m/usr/lib/python3.8/multiprocessing/connection.py\u001b[0m in \u001b[0;36mwait\u001b[0;34m(object_list, timeout)\u001b[0m\n\u001b[1;32m    929\u001b[0m \u001b[0;34m\u001b[0m\u001b[0m\n\u001b[1;32m    930\u001b[0m             \u001b[0;32mwhile\u001b[0m \u001b[0;32mTrue\u001b[0m\u001b[0;34m:\u001b[0m\u001b[0;34m\u001b[0m\u001b[0;34m\u001b[0m\u001b[0m\n\u001b[0;32m--> 931\u001b[0;31m                 \u001b[0mready\u001b[0m \u001b[0;34m=\u001b[0m \u001b[0mselector\u001b[0m\u001b[0;34m.\u001b[0m\u001b[0mselect\u001b[0m\u001b[0;34m(\u001b[0m\u001b[0mtimeout\u001b[0m\u001b[0;34m)\u001b[0m\u001b[0;34m\u001b[0m\u001b[0;34m\u001b[0m\u001b[0m\n\u001b[0m\u001b[1;32m    932\u001b[0m                 \u001b[0;32mif\u001b[0m \u001b[0mready\u001b[0m\u001b[0;34m:\u001b[0m\u001b[0;34m\u001b[0m\u001b[0;34m\u001b[0m\u001b[0m\n\u001b[1;32m    933\u001b[0m                     \u001b[0;32mreturn\u001b[0m \u001b[0;34m[\u001b[0m\u001b[0mkey\u001b[0m\u001b[0;34m.\u001b[0m\u001b[0mfileobj\u001b[0m \u001b[0;32mfor\u001b[0m \u001b[0;34m(\u001b[0m\u001b[0mkey\u001b[0m\u001b[0;34m,\u001b[0m \u001b[0mevents\u001b[0m\u001b[0;34m)\u001b[0m \u001b[0;32min\u001b[0m \u001b[0mready\u001b[0m\u001b[0;34m]\u001b[0m\u001b[0;34m\u001b[0m\u001b[0;34m\u001b[0m\u001b[0m\n",
      "\u001b[0;32m/usr/lib/python3.8/selectors.py\u001b[0m in \u001b[0;36mselect\u001b[0;34m(self, timeout)\u001b[0m\n\u001b[1;32m    413\u001b[0m         \u001b[0mready\u001b[0m \u001b[0;34m=\u001b[0m \u001b[0;34m[\u001b[0m\u001b[0;34m]\u001b[0m\u001b[0;34m\u001b[0m\u001b[0;34m\u001b[0m\u001b[0m\n\u001b[1;32m    414\u001b[0m         \u001b[0;32mtry\u001b[0m\u001b[0;34m:\u001b[0m\u001b[0;34m\u001b[0m\u001b[0;34m\u001b[0m\u001b[0m\n\u001b[0;32m--> 415\u001b[0;31m             \u001b[0mfd_event_list\u001b[0m \u001b[0;34m=\u001b[0m \u001b[0mself\u001b[0m\u001b[0;34m.\u001b[0m\u001b[0m_selector\u001b[0m\u001b[0;34m.\u001b[0m\u001b[0mpoll\u001b[0m\u001b[0;34m(\u001b[0m\u001b[0mtimeout\u001b[0m\u001b[0;34m)\u001b[0m\u001b[0;34m\u001b[0m\u001b[0;34m\u001b[0m\u001b[0m\n\u001b[0m\u001b[1;32m    416\u001b[0m         \u001b[0;32mexcept\u001b[0m \u001b[0mInterruptedError\u001b[0m\u001b[0;34m:\u001b[0m\u001b[0;34m\u001b[0m\u001b[0;34m\u001b[0m\u001b[0m\n\u001b[1;32m    417\u001b[0m             \u001b[0;32mreturn\u001b[0m \u001b[0mready\u001b[0m\u001b[0;34m\u001b[0m\u001b[0;34m\u001b[0m\u001b[0m\n",
      "\u001b[0;31mKeyboardInterrupt\u001b[0m: "
     ]
    }
   ],
   "source": [
    "niter = start_iter + 1\n",
    "max_niter = 400000\n",
    "current_loss_G = []\n",
    "current_loss_D = []\n",
    "current_psnr = []\n",
    "best_psnr = 0\n",
    "loss_G_mean = []\n",
    "loss_D_mean = []\n",
    "psnr_mean = []\n",
    "check_freq = 500\n",
    "\n",
    "while True:\n",
    "    for G_in, D_real in zip(G_loader, D_loader):\n",
    "        TGAN.set_input(G_in, D_real)\n",
    "        TGAN.optimize(niter)\n",
    "        generated = TGAN.recon.squeeze().detach()\n",
    "        current_loss_G.append(TGAN.loss_G.item())\n",
    "        current_loss_D.append(TGAN.loss_D.item())\n",
    "        current_psnr.append(calculate_psnr(generated.cpu().numpy()*255, \\\n",
    "                               target.detach().numpy()*255, border=0))\n",
    "        if niter >= check_freq and niter % check_freq == 0:\n",
    "            lr_g, lr_d = TGAN.optimizer_G.param_groups[0]['lr'], TGAN.optimizer_D.param_groups[0]['lr']\n",
    "            loss_G, loss_D = sum(current_loss_G)/check_freq, sum(current_loss_D)/check_freq,\n",
    "            psnr = sum(current_psnr)/check_freq\n",
    "            message = 'step: {:d} lr_g: {:.9f} lr_d: {:.9f} loss_G: {:7f} loss_D: {:7f} psnr: {:4f}'.format(\n",
    "                niter, lr_g, lr_d, loss_G, loss_D, psnr)\n",
    "            print(message)\n",
    "            with open(log_path,'a') as log_file:\n",
    "                log_file.write('{}\\n'.format(message))\n",
    "\n",
    "            loss_D_mean.append(loss_D)\n",
    "            loss_G_mean.append(loss_G)\n",
    "            psnr_mean.append(psnr)\n",
    "            current_loss_G = []\n",
    "            current_loss_D = []\n",
    "            current_psnr = []\n",
    "            \n",
    "            if psnr > best_psnr:\n",
    "                torch.save({'step': niter, \n",
    "                            'best_psnr': psnr,\n",
    "                            'state_dict': TGAN.model_G.state_dict(),\n",
    "                            'optimizer' : TGAN.optimizer_G.state_dict()\n",
    "                            }, f\"{TGAN.ckpt_path}/best_G.pth\")\n",
    "                torch.save({'step': niter, \n",
    "                        'best_psnr': psnr,\n",
    "                        'state_dict': TGAN.model_D.state_dict(),\n",
    "                        'optimizer' : TGAN.optimizer_D.state_dict()\n",
    "                        }, f\"{TGAN.ckpt_path}/best_D.pth\") \n",
    "                best_psnr = psnr\n",
    "\n",
    "            TGAN.update_learning_rate(loss_G)\n",
    "            TGAN.save_results(niter)\n",
    "        if niter % 1000 == 0:\n",
    "            TGAN.save_networks(niter)\n",
    "        niter += 1"
   ]
  },
  {
   "cell_type": "code",
   "execution_count": null,
   "id": "bfcb2a62",
   "metadata": {},
   "outputs": [],
   "source": []
  },
  {
   "cell_type": "code",
   "execution_count": null,
   "id": "0d41aee5",
   "metadata": {},
   "outputs": [],
   "source": []
  }
 ],
 "metadata": {
  "kernelspec": {
   "display_name": "Python 3 (ipykernel)",
   "language": "python",
   "name": "python3"
  },
  "language_info": {
   "codemirror_mode": {
    "name": "ipython",
    "version": 3
   },
   "file_extension": ".py",
   "mimetype": "text/x-python",
   "name": "python",
   "nbconvert_exporter": "python",
   "pygments_lexer": "ipython3",
   "version": "3.8.5"
  }
 },
 "nbformat": 4,
 "nbformat_minor": 5
}
